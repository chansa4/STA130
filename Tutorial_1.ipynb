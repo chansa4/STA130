{
 "cells": [
  {
   "cell_type": "code",
   "execution_count": 9,
   "id": "3b43f56c",
   "metadata": {},
   "outputs": [
    {
     "name": "stdout",
     "output_type": "stream",
     "text": [
      "   PassengerId  Survived  Pclass  \\\n",
      "0            1         0       3   \n",
      "1            2         1       1   \n",
      "2            3         1       3   \n",
      "3            4         1       1   \n",
      "4            5         0       3   \n",
      "\n",
      "                                                Name     Sex   Age  SibSp  \\\n",
      "0                            Braund, Mr. Owen Harris    male  22.0      1   \n",
      "1  Cumings, Mrs. John Bradley (Florence Briggs Th...  female  38.0      1   \n",
      "2                             Heikkinen, Miss. Laina  female  26.0      0   \n",
      "3       Futrelle, Mrs. Jacques Heath (Lily May Peel)  female  35.0      1   \n",
      "4                           Allen, Mr. William Henry    male  35.0      0   \n",
      "\n",
      "   Parch            Ticket     Fare Cabin Embarked  \n",
      "0      0         A/5 21171   7.2500   NaN        S  \n",
      "1      0          PC 17599  71.2833   C85        C  \n",
      "2      0  STON/O2. 3101282   7.9250   NaN        S  \n",
      "3      0            113803  53.1000  C123        S  \n",
      "4      0            373450   8.0500   NaN        S  \n"
     ]
    }
   ],
   "source": [
    "import pandas as pd\n",
    "\n",
    "# URL of the Titanic sample dataset CSV file\n",
    "url = \"https://raw.githubusercontent.com/datasciencedojo/datasets/master/titanic.csv\"\n",
    "\n",
    "# Load the dataset\n",
    "titanic_df = pd.read_csv(url)\n",
    "\n",
    "# Display the first few rows of the dataset\n",
    "print(titanic_df.head())\n"
   ]
  },
  {
   "cell_type": "code",
   "execution_count": 10,
   "id": "39e213c9",
   "metadata": {},
   "outputs": [
    {
     "name": "stdout",
     "output_type": "stream",
     "text": [
      "Missing values per column:\n",
      "PassengerId      0\n",
      "Survived         0\n",
      "Pclass           0\n",
      "Name             0\n",
      "Sex              0\n",
      "Age            177\n",
      "SibSp            0\n",
      "Parch            0\n",
      "Ticket           0\n",
      "Fare             0\n",
      "Cabin          687\n",
      "Embarked         2\n",
      "dtype: int64\n",
      "\n",
      "Total missing values in the dataset: 866\n"
     ]
    }
   ],
   "source": [
    "import pandas as pd\n",
    "\n",
    "# URL of the Titanic dataset CSV file\n",
    "url = \"https://raw.githubusercontent.com/datasciencedojo/datasets/master/titanic.csv\"\n",
    "\n",
    "# Load the dataset\n",
    "titanic_df = pd.read_csv(url)\n",
    "\n",
    "# Check for missing values in each column\n",
    "missing_values_per_column = titanic_df.isnull().sum()\n",
    "\n",
    "# Sum up all missing values across the entire dataset\n",
    "total_missing_values = missing_values_per_column.sum()\n",
    "\n",
    "# Display missing values per column and the total\n",
    "print(\"Missing values per column:\")\n",
    "print(missing_values_per_column)\n",
    "\n",
    "print(f\"\\nTotal missing values in the dataset: {total_missing_values}\")\n"
   ]
  },
  {
   "cell_type": "markdown",
   "id": "ae534ca9",
   "metadata": {},
   "source": [
    "Summary of Interaction\n",
    "Objective: The goal was to identify an interesting dataset with missing values and provide Python code to analyze the missing data.\n",
    "\n",
    "Dataset Identification:\n",
    "\n",
    "Dataset Chosen: Titanic Dataset\n",
    "Source: Titanic Dataset CSV on GitHub\n",
    "Description: The Titanic dataset includes information about passengers on the Titanic, such as whether they survived, their age, class, and other details. It is a commonly used dataset in data science for learning purposes.\n",
    "Python Code Provided:\n",
    "\n",
    "Loading the Dataset:\n",
    "\n",
    "python\n",
    "Copy code\n",
    "import pandas as pd\n",
    "\n",
    "# URL of the Titanic dataset CSV file\n",
    "url = \"https://raw.githubusercontent.com/datasciencedojo/datasets/master/titanic.csv\"\n",
    "\n",
    "# Load the dataset\n",
    "titanic_df = pd.read_csv(url)\n",
    "\n",
    "# Display the first few rows of the dataset\n",
    "print(titanic_df.head())\n",
    "Summarizing Missing Values:\n",
    "\n",
    "python\n",
    "Copy code\n",
    "# Check for missing values in each column\n",
    "missing_values_per_column = titanic_df.isnull().sum()\n",
    "\n",
    "# Sum up all missing values across the entire dataset\n",
    "total_missing_values = missing_values_per_column.sum()\n",
    "\n",
    "# Display missing values per column and the total\n",
    "print(\"Missing values per column:\")\n",
    "print(missing_values_per_column)\n",
    "\n",
    "print(f\"\\nTotal missing values in the dataset: {total_missing_values}\")\n",
    "Purpose of the Code:\n",
    "\n",
    "Loading Dataset: To read and preview the Titanic dataset.\n",
    "Analyzing Missing Values: To identify and count missing values in each column and obtain a total count of missing values across the dataset.\n",
    "Outcome: The provided code enables users to load the Titanic dataset and analyze missing values efficiently, supporting further data cleaning and preprocessing tasks.\n",
    "\n",
    "Feel free to adjust or expand upon this summary based on your specific requirements or additional details you might want to include.\n"
   ]
  },
  {
   "cell_type": "code",
   "execution_count": null,
   "id": "354f24d2",
   "metadata": {},
   "outputs": [],
   "source": []
  }
 ],
 "metadata": {
  "kernelspec": {
   "display_name": "Python 3 (ipykernel)",
   "language": "python",
   "name": "python3"
  },
  "language_info": {
   "codemirror_mode": {
    "name": "ipython",
    "version": 3
   },
   "file_extension": ".py",
   "mimetype": "text/x-python",
   "name": "python",
   "nbconvert_exporter": "python",
   "pygments_lexer": "ipython3",
   "version": "3.11.6"
  }
 },
 "nbformat": 4,
 "nbformat_minor": 5
}
