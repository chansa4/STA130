{
 "cells": [
  {
   "cell_type": "markdown",
   "id": "9688c51c",
   "metadata": {},
   "source": [
    "# Individual Project Proposal - Avina Chan\n",
    "**Group Members: Joonie and Hugo**"
   ]
  },
  {
   "cell_type": "markdown",
   "id": "7b50eb99",
   "metadata": {},
   "source": [
    "## 1 (Online Vs. Offline Interactions and Lonliness)"
   ]
  },
  {
   "cell_type": "markdown",
   "id": "d2086dc8",
   "metadata": {},
   "source": [
    "<ins>**Research Question**</ins><br> \n",
    "*Is there a significant association between the frequency of online and offline interactions across relationship types (e.g., family, friends, colleagues) and levels of loneliness?*"
   ]
  },
  {
   "cell_type": "markdown",
   "id": "ea8e7bfe",
   "metadata": {},
   "source": [
    "<ins>**Variables**</ins> <br> \n",
    "\n",
    "**Loneliness** <br>\n",
    "- **Question**:Most people feel lonely at least some of the time, while others experience consistently strong feelings of loneliness. Which of the options below BEST describes your experience with loneliness?\n",
    "- **Data Type**: Categorical\n",
    "- **Whh?**: This variable measures users' perceptions of loneliness, capturing the extent to which they feel lonely (e.g., \"sometimes,\" \"often,\" \"always\").\n",
    "- **Visualization**: A bar chart can effectively compare the proportion of users experiencing different levels of loneliness. This allows for quick comparisons across categories.\n",
    "    - **Why Visualization?**: A bar chart can be used to compare the proportions of users feeling different levels of loneliness, to see if there is any trends\n",
    "<br> \n",
    "\n",
    "**Online Interactions** <br>\n",
    "- **Question**: How frequently do you interact virtually (e.g., online, over the phone, or via text) with each person listed below?\n",
    "- **Data Type**: Ordinal Categorical\n",
    "- **Why?**: This variable provides insight into the frequency of virtual social support, measured across the last ten individuals with whom the user had meaningful social interactions in the past six months. This data allows for a comparable measure of online versus offline interactions for each relationship.\n",
    "- **Visualization**: stacked bar charts, distinguished by relationship type, can display offline and online interaction frequencies. This approach highlights variations in interaction frequency and type across different relationship categories, supporting easy comparison between online and offline interactions for each relationship type.\n",
    "    - **Why Visualization?**: makes it easy to compare between all the different variables and if there is any trends that can be identified by the graph.\n",
    "<br> \n",
    "\n",
    "**Offline Interactions** <br>\n",
    "- **Question**: How frequently do you interact face-to-face (in person) with each person listed below?\n",
    "- **Data Type**: Ordinal Categorical\n",
    "- **Why?**: This variable provides data on the frequency of in-person interactions, complementing the online interaction data to assess overall interaction patterns with each listed person.\n",
    "- **Visualization**: Refer to the visualization described for online interactions, where both offline and online interactions are represented in stacked bar charts for comparison.\n",
    "<br> \n",
    "\n",
    "**Relationship Type** <br> \n",
    "- **Questions**: How would you describe your relationship to each person listed below?\n",
    "- **Data Type**: Categorical\n",
    "- **Why?**: This variable helps categorize our social interaction by relationship type, to analyze how the type of relationship influence loneliness in relation to online and offline interaction\n",
    "- **Visualization**: Refer to the visualization described for online interactions, where both offline and online interactions are represented in stacked bar charts for comparison."
   ]
  },
  {
   "cell_type": "markdown",
   "id": "02be87c7",
   "metadata": {},
   "source": [
    "<ins>**Methodology**</ins>\n",
    "\n",
    "1. **Data Preparation and Structuring**\n",
    "   - **Data Cleaning**: Remove incomplete or missing responses.\n",
    "   - **Data Structuring**:\n",
    "     - **Loneliness**: Encode as ordinal values (0 = \"never,\" 1 = \"sometimes,\" 2 = \"often,\" 3 = \"always\").\n",
    "     - **Interaction Frequencies**: Convert to ordinal values (0 = \"never,\" 1 = \"rarely,\" 2 = \"sometimes,\" 3 = \"often\").\n",
    "     - **Relationship Type**: Classify last ten meaningful interactions into categories (family, friend, colleague).\n",
    "     - **Final Structure**: Each record includes:\n",
    "       - Participant's loneliness level\n",
    "       - Interaction type (online/offline) and frequency\n",
    "       - Relationship type\n",
    "\n",
    "2. **Data Visualization**\n",
    "   - **Loneliness Distribution**: Bar chart of loneliness levels across participants.\n",
    "   - **Interaction Frequencies**: Stacked bar charts for online/offline interactions by relationship type.\n",
    "\n",
    "3. **Statistical Analysis** <br>\n",
    "**For Each Relationship type....**\n",
    "   - **Spearman’s Rank Correlation with Bootstrapping**:\n",
    "     - Calculate original Spearman correlation coefficients.\n",
    "     - Use bootstrapping for confidence intervals and histograms of correlation coefficients.\n",
    "   - **Hypothesis Testing for Correlation**:\n",
    "     - Derive p-values from bootstrap results; compare against significance level (e.g., α = 0.05).\n",
    "   - **Fisher’s Exact Test (or Chi-Square Test)**:\n",
    "     - Categorize loneliness and interaction frequencies into \"high\" and \"low.\"\n",
    "     - Create contingency tables and perform tests for each relationship type.\n",
    "\n",
    "4. **Data Visualization for Statistical Results**\n",
    "   - **Bootstrapped Correlation**: Histograms of bootstrapped correlation coefficients.\n",
    "   - **Fisher’s Exact Test Results**: Bar charts showing p-values or proportions of loneliness levels by relationship type.\n",
    "   - **Summary Tables**: Consolidate p-values, correlation coefficients, and confidence intervals for comparison across relationship types.\n",
    "\n",
    "**ASSUMPTIONS**\n",
    "- Independence of observations\n",
    "- Monotonic relationship between loneliness and interaction frequencies\n",
    "- Sufficient sample size\n",
    "- Ordinal scale will accurately reflect loneliness and interaction frequency\n",
    "- Proportions of categorical variables are similar across groups\n",
    "- Bootstrapped samples are assumed to approximate normality"
   ]
  },
  {
   "cell_type": "markdown",
   "id": "36764908",
   "metadata": {},
   "source": [
    "<ins> **Hypothesis** <ins/>\n",
    "\n",
    "**Null Hypothesis (H₀)**: <br>\n",
    "There is no significant association between the frequency of online and offline interactions and levels of loneliness across ___relationship type.\n",
    "<br>\n",
    "**Alternative Hypothesis (H₁)**: <br>\n",
    "There is a significant association between the frequency of online and offline interactions and levels of loneliness across ___ relationship type. <br> \n",
    "\n",
    "**The blank (____) would be filled in with the relationship type**"
   ]
  },
  {
   "cell_type": "markdown",
   "id": "7483d6e9",
   "metadata": {},
   "source": [
    "## 2 (Timing of Work on Mental Health)"
   ]
  },
  {
   "cell_type": "markdown",
   "id": "c9c0b410",
   "metadata": {},
   "source": [
    "<ins>**Research Question**</ins><br> \n",
    "*Does working from home impact perceived work-life balance?* "
   ]
  },
  {
   "cell_type": "markdown",
   "id": "d70ed3fa",
   "metadata": {},
   "source": [
    "<ins>**Variables**</ins> <br> \n",
    "\n",
    "**Days Worked from Home** <br>\n",
    "- **Question**: On average, how many days per week do you work from home (versus in-person or at an office)? WORK_shift_days_from_home_num\n",
    "- **Data Type**: Discrete\n",
    "- **Why?**: This variable helps measure the amount that individuals are working from home. \n",
    "- **Visualization**: Bar chart to display the frequency distribution of days work from home.\n",
    "    - **Why Visualization?**: Bar chart helps make it easy to see the distirbution and make comparisons\n",
    "\n",
    "\n",
    "**Percieved Work-Life Balance** <br>\n",
    "- **Question**: Please rate whether you spend too much time, too little time, or just the right amount of time doing each of the following activities: - working LIFESTYLE_time_use_balance_working\n",
    "- **Data Type**: Ordinal categorical\n",
    "- **Why?**: Meaures the users satisfaction with their time spent of work activities, and can be used to measure perceived work life balance. \n",
    "- **Visualization**: Bar chart showing response distirbution\n",
    "    - **Why Visualization?**: bar char makes it easy to see general response distirbution \n"
   ]
  },
  {
   "cell_type": "markdown",
   "id": "6e5f5f50",
   "metadata": {},
   "source": [
    "<ins>**Methodology**</ins>\n",
    "\n",
    "1. **Data Preparation**\n",
    "   - **Cleaning**: Remove incomplete responses.\n",
    "   - **Structuring**:\n",
    "     - **Days Worked from Home**: Treat as discrete (0–5 days).\n",
    "     - **Work-Life Balance**: Encode as ordinal.\n",
    "\n",
    "3. **Visualization**\n",
    "   - **Days Worked from Home**: Display frequency distribution with a bar chart.\n",
    "   - **Perceived Work-Life Balance**: Show balance ratings distribution with a bar chart.\n",
    "   - **Comparative Visualization**: Use a grouped bar chart to compare work-life balance ratings across categories of remote work frequency.\n",
    "\n",
    "4. **Statistical Analysis**\n",
    "   \n",
    "   - **A. Spearman Rank Correlation**:\n",
    "     - **Bootstrap Confidence Interval**:\n",
    "       - Resample to create a distribution of Spearman correlation coefficients.\n",
    "       - **Visualization**: Plot histogram of bootstrapped correlations, with 95% confidence interval.\n",
    "   \n",
    "   - **B. Hypothesis Testing**:\n",
    "     - **Null Distribution**:\n",
    "       - Resample under the null hypothesis to generate a null distribution of correlation coefficients.\n",
    "       - **Visualization**: Plot null distribution and highlight observed correlation.\n",
    "     - **Significance**: Calculate p-value based on where the observed correlation falls in the null distribution.\n",
    "\n",
    "5. **Interpretation of Findings**\n",
    "   - Summarize and interpret the Spearman correlation and hypothesis test results to assess the relationship between remote work and perceived work-life balance. Create summary statistics\n",
    "   \n",
    "**ASSUMPTIONS**\n",
    "- Independence of observations\n",
    "- Monotonic relationship between days worked from home and perceived work-life balance\n",
    "- Sufficient sample size\n",
    "- No change in perceptions over time\n",
    "- The ordinal scale can accurately capture the participants' experiences"
   ]
  },
  {
   "cell_type": "markdown",
   "id": "4f87e980",
   "metadata": {},
   "source": [
    "<ins>**Hypothesis**</ins> <br>\n",
    "**Null Hypothesis (H0)**: There is no association between the number of days worked from home and perceived work-life balance. <br>\n",
    "\n",
    "**Alternative Hypothesis (H1)**: There is an association between the number of days worked from home and perceived work-life balance."
   ]
  },
  {
   "cell_type": "markdown",
   "id": "89546373",
   "metadata": {},
   "source": [
    "# 3 (Social Media Usage on Loneliness)"
   ]
  },
  {
   "cell_type": "markdown",
   "id": "73f16d17",
   "metadata": {},
   "source": [
    "<ins>**Research Question**</ins> <br>\n",
    "*Does the frequency of social media usage influence perceived loneliness, across different age groups?*"
   ]
  },
  {
   "cell_type": "markdown",
   "id": "95d8ba6f",
   "metadata": {},
   "source": [
    "<ins>**Variables**</ins><br> \n",
    "**Age**  \n",
    "- **Question**: How old are you (in years)?  \n",
    "- **Data Type**: Discrete  \n",
    "- **Purpose**: This variable quantifies the respondent's age, allowing for comparisons across different age groups.  \n",
    "<br>\n",
    "\n",
    "**Social Media Usage**  \n",
    "- **Question**: In the past week, on average, approximately how much time PER DAY have you spent actively using social networking websites?  \n",
    "- **Data Type**: Ordinal Categorical  \n",
    "- **Purpose**: This variable assesses the average daily time spent on social media to provide an indication of social media usage.  \n",
    "<br> \n",
    "\n",
    "**Loneliness**  \n",
    "- **Question**: Most people feel lonely at least some of the time. Others experience consistently strong feelings of loneliness. Which of the options below BEST describes your experience with loneliness?  \n",
    "- **Data Type**: Ordinal Categorical  \n",
    "- **Purpose**: This variable captures respondents' perceptions of their loneliness, which will be analyzed in relation to social media usage.  \n",
    "\n",
    "**Visualization Method**  \n",
    "- **Summary Statistics**: Use summary statistics to show the average levels for each category, ranking from 0 upwards.\n",
    "- **Stacked Bar Chart**: Create a stacked bar chart segmented by age groups (e.g., generations) with two main metrics:\n",
    "    1. Average social media usage\n",
    "    2. Average loneliness level\n",
    " - **Why Visualization?**: it allows for effective comparisons across age groups, and having social media usage and loneliness levels also makes it easy to compare. Bar charts are used as all the data use is categorical.\n"
   ]
  },
  {
   "cell_type": "markdown",
   "id": "c2b8a59a",
   "metadata": {},
   "source": [
    "<ins>**Methodology**</ins>\n",
    "\n",
    "1. **Data Preparation and Structuring**\n",
    "   - **Data Cleaning**: Remove incomplete or invalid responses to ensure data integrity.\n",
    "   - **Data Structuring**:\n",
    "     - **Age**: Record as a discrete variable.\n",
    "     - **Social Media Usage**: Assess as ordinal values based on average daily time spent (e.g., 0 = \"none,\" 1 = \"low,\" 2 = \"medium,\" 3 = \"high\").\n",
    "     - **Loneliness**: Encode as ordinal values (e.g., 0 = \"never lonely,\" 1 = \"rarely lonely,\" 2 = \"sometimes lonely,\" 3 = \"often lonely\").\n",
    "     - **Generational Categorization**: Classify participants into generational groups (e.g., Generation Z, Millennials, Generation X, Baby Boomers).\n",
    "\n",
    "2. **Data Visualization**\n",
    "   - **Loneliness Distribution**: Use a bar chart to display the overall distribution of loneliness levels among participants, segmented by generation.\n",
    "   - **Social Media Usage by Generation**: Create a stacked bar chart to visualize average social media usage across different generations and the associated loneliness levels.\n",
    "\n",
    "3. **Statistical Analysis**\n",
    "   - **Spearman Rank Correlation Analysis**:\n",
    "     - Conduct a Spearman rank correlation analysis between age and loneliness levels to assess whether there is a significant relationship.\n",
    "     - Utilize bootstrapping to generate confidence intervals for the Spearman correlation coefficient. This will help determine the statistical significance of the correlation between age and loneliness.\n",
    "            - Control for Age Influence\n",
    "        - - **Bootstrapped Correlation Coefficient Histograms**: Visualize the distribution of bootstrapped Spearman rank correlation coefficients between age and loneliness levels using histograms. This provides insights into the variability of the correlation.\n",
    "   - **Hypothesis Testing by Age Group**:\n",
    "     - Perform hypothesis testing for the influence of social media usage on loneliness within individual age groups.\n",
    "     - Resample from the null hypothesis of the bootstrapped samples specific to each age group to evaluate the correlation between social media usage and loneliness.\n",
    "     - **Summary Statistics**\n",
    "     \n",
    "**ASSUMPTIONS**\n",
    "- Independence of observations\n",
    "- Relationship between age and loneliness is monotonic\n",
    "- Sufficient sample size\n",
    "- Stability of social media usage and loneliness perceptions\n"
   ]
  },
  {
   "cell_type": "markdown",
   "id": "ed314d15",
   "metadata": {},
   "source": [
    "<ins>**Hypothesis**</ins>\n",
    "1. **For Spearman Rank Correlation between Age and Loneliness**:\n",
    "   - **Null Hypothesis (H₀)**: There is no significant correlation between age and loneliness levels among participants. (i.e., ρ = 0)\n",
    "   - **Alternative Hypothesis (H₁)**: There is a significant correlation between age and loneliness levels among participants. (i.e., ρ ≠ 0)\n",
    "---\n",
    "2. **For the Influence of Social Media Usage on Loneliness by Age Group**:\n",
    "   - **Null Hypothesis (H₀)**: There is no significant difference in loneliness levels based on the amount of social media usage within ___ generational group.\n",
    "   \n",
    "   - **Alternative Hypothesis (H₁)**: There is a significant difference in loneliness levels based on the amount of social media usage within ___ generational group.\n",
    "\n",
    "**the blank (___) will be replaced by the generational group name**"
   ]
  }
 ],
 "metadata": {
  "kernelspec": {
   "display_name": "Python 3 (ipykernel)",
   "language": "python",
   "name": "python3"
  },
  "language_info": {
   "codemirror_mode": {
    "name": "ipython",
    "version": 3
   },
   "file_extension": ".py",
   "mimetype": "text/x-python",
   "name": "python",
   "nbconvert_exporter": "python",
   "pygments_lexer": "ipython3",
   "version": "3.11.6"
  }
 },
 "nbformat": 4,
 "nbformat_minor": 5
}
